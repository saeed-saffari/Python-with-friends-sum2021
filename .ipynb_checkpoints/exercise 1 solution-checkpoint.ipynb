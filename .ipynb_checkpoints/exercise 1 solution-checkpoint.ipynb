{
 "cells": [
  {
   "cell_type": "markdown",
   "id": "8b1458ae",
   "metadata": {},
   "source": [
    "# Q1"
   ]
  },
  {
   "cell_type": "code",
   "execution_count": 4,
   "id": "ee9e6f78",
   "metadata": {},
   "outputs": [
    {
     "name": "stdout",
     "output_type": "stream",
     "text": [
      "{'data1': -10, 'data2': 300, 'data3': 239}\n"
     ]
    }
   ],
   "source": [
    "Dict = {'data1': -10, \n",
    "        'data2': 300,\n",
    "        'data3': 239}\n",
    "print(Dict)"
   ]
  },
  {
   "cell_type": "code",
   "execution_count": 6,
   "id": "68f283d6",
   "metadata": {},
   "outputs": [
    {
     "data": {
      "text/plain": [
       "dict_values([-10, 300, 239])"
      ]
     },
     "execution_count": 6,
     "metadata": {},
     "output_type": "execute_result"
    }
   ],
   "source": [
    "Dict.values()"
   ]
  },
  {
   "cell_type": "code",
   "execution_count": 7,
   "id": "a2157b08",
   "metadata": {},
   "outputs": [
    {
     "data": {
      "text/plain": [
       "529"
      ]
     },
     "execution_count": 7,
     "metadata": {},
     "output_type": "execute_result"
    }
   ],
   "source": [
    "summation = sum(Dict.values())\n",
    "summation"
   ]
  },
  {
   "cell_type": "code",
   "execution_count": 11,
   "id": "f3b428c4",
   "metadata": {},
   "outputs": [
    {
     "name": "stdout",
     "output_type": "stream",
     "text": [
      "The sum of all elements of Dict is 529\n"
     ]
    }
   ],
   "source": [
    "print('The sum of all elements of Dict is', summation)"
   ]
  },
  {
   "cell_type": "code",
   "execution_count": 17,
   "id": "043ad2a1",
   "metadata": {},
   "outputs": [
    {
     "name": "stdout",
     "output_type": "stream",
     "text": [
      "The sum of all elements of Dict is 529\n"
     ]
    }
   ],
   "source": [
    "print('The sum of all elements of Dict is ' + str(summation))"
   ]
  },
  {
   "cell_type": "code",
   "execution_count": 15,
   "id": "0f903d15",
   "metadata": {},
   "outputs": [
    {
     "name": "stdout",
     "output_type": "stream",
     "text": [
      "The sum of all elements of Dict is 529.\n"
     ]
    }
   ],
   "source": [
    "print('The sum of all elements of Dict is {}.'.format(summation))"
   ]
  },
  {
   "cell_type": "code",
   "execution_count": 18,
   "id": "c3d21e44",
   "metadata": {},
   "outputs": [
    {
     "name": "stdout",
     "output_type": "stream",
     "text": [
      "The sum of all elements of Dict is 529\n"
     ]
    }
   ],
   "source": [
    "print('The sum of all elements of Dict is ' + str(-10+300+239))"
   ]
  },
  {
   "cell_type": "markdown",
   "id": "9398f8c7",
   "metadata": {},
   "source": [
    "# Q2"
   ]
  },
  {
   "cell_type": "code",
   "execution_count": 19,
   "id": "1fd953fb",
   "metadata": {},
   "outputs": [],
   "source": [
    "my_list = ['c' , 'o' , 'm' , 'p' , 'u' , 't', 'e', 'r']\n",
    "my_course = \"(Computer for Economics)\""
   ]
  },
  {
   "cell_type": "code",
   "execution_count": 22,
   "id": "257082ce",
   "metadata": {},
   "outputs": [
    {
     "data": {
      "text/plain": [
       "'p'"
      ]
     },
     "execution_count": 22,
     "metadata": {},
     "output_type": "execute_result"
    }
   ],
   "source": [
    "my_list[3]"
   ]
  },
  {
   "cell_type": "code",
   "execution_count": 23,
   "id": "588924fb",
   "metadata": {},
   "outputs": [
    {
     "name": "stdout",
     "output_type": "stream",
     "text": [
      "cmp\n"
     ]
    }
   ],
   "source": [
    "part_1 = my_list[0] + my_list[2] + my_list[3]\n",
    "print(part_1)"
   ]
  },
  {
   "cell_type": "code",
   "execution_count": 28,
   "id": "28f3b519",
   "metadata": {},
   "outputs": [
    {
     "data": {
      "text/plain": [
       "str"
      ]
     },
     "execution_count": 28,
     "metadata": {},
     "output_type": "execute_result"
    }
   ],
   "source": [
    "type(part_1)"
   ]
  },
  {
   "cell_type": "code",
   "execution_count": 25,
   "id": "9429ff64",
   "metadata": {},
   "outputs": [
    {
     "name": "stdout",
     "output_type": "stream",
     "text": [
      "CMP\n"
     ]
    }
   ],
   "source": [
    "part_1 = part_1.upper()\n",
    "print(part_1)"
   ]
  },
  {
   "cell_type": "code",
   "execution_count": 26,
   "id": "ed5ba2e1",
   "metadata": {},
   "outputs": [
    {
     "name": "stdout",
     "output_type": "stream",
     "text": [
      "CMP(Computer for Economics)\n"
     ]
    }
   ],
   "source": [
    "new = part_1 + my_course\n",
    "print(new)"
   ]
  },
  {
   "cell_type": "code",
   "execution_count": 27,
   "id": "215b0fd5",
   "metadata": {},
   "outputs": [
    {
     "name": "stdout",
     "output_type": "stream",
     "text": [
      "The final output is: CMP(Computer for Economics)\n"
     ]
    }
   ],
   "source": [
    "print('The final output is: {}'.format(new))"
   ]
  },
  {
   "cell_type": "code",
   "execution_count": 29,
   "id": "7dbf1a09",
   "metadata": {},
   "outputs": [
    {
     "data": {
      "text/plain": [
       "['c', 'o', 'm', 'p', 'u', 't', 'e', 'r']"
      ]
     },
     "execution_count": 29,
     "metadata": {},
     "output_type": "execute_result"
    }
   ],
   "source": [
    "my_list"
   ]
  },
  {
   "cell_type": "code",
   "execution_count": 30,
   "id": "a20f2864",
   "metadata": {},
   "outputs": [],
   "source": [
    "my_list.remove('o')"
   ]
  },
  {
   "cell_type": "code",
   "execution_count": 32,
   "id": "8e209604",
   "metadata": {},
   "outputs": [],
   "source": [
    "my_list.remove('u')"
   ]
  },
  {
   "cell_type": "code",
   "execution_count": 33,
   "id": "fc90e588",
   "metadata": {},
   "outputs": [],
   "source": [
    "my_list.remove('t')"
   ]
  },
  {
   "cell_type": "code",
   "execution_count": 34,
   "id": "69b70687",
   "metadata": {},
   "outputs": [],
   "source": [
    "my_list.remove('e')"
   ]
  },
  {
   "cell_type": "code",
   "execution_count": 35,
   "id": "f0598d89",
   "metadata": {},
   "outputs": [],
   "source": [
    "my_list.remove('r')"
   ]
  },
  {
   "cell_type": "code",
   "execution_count": 36,
   "id": "7810ee26",
   "metadata": {},
   "outputs": [
    {
     "data": {
      "text/plain": [
       "['c', 'm', 'p']"
      ]
     },
     "execution_count": 36,
     "metadata": {},
     "output_type": "execute_result"
    }
   ],
   "source": [
    "my_list"
   ]
  },
  {
   "cell_type": "code",
   "execution_count": 37,
   "id": "811423b9",
   "metadata": {},
   "outputs": [
    {
     "data": {
      "text/plain": [
       "list"
      ]
     },
     "execution_count": 37,
     "metadata": {},
     "output_type": "execute_result"
    }
   ],
   "source": [
    "type(my_list)"
   ]
  },
  {
   "cell_type": "code",
   "execution_count": null,
   "id": "23d52ab2",
   "metadata": {},
   "outputs": [],
   "source": []
  },
  {
   "cell_type": "markdown",
   "id": "a5b48040",
   "metadata": {},
   "source": [
    "# Q3"
   ]
  },
  {
   "cell_type": "code",
   "execution_count": 51,
   "id": "3024316c",
   "metadata": {},
   "outputs": [
    {
     "name": "stdout",
     "output_type": "stream",
     "text": [
      "Enter first number: 12.4\n",
      "Enter second number: 24.7\n",
      "Enter third number: -13\n",
      "The average of 12.4, 24.7 and -13.0 is 8.03.\n"
     ]
    }
   ],
   "source": [
    "first_number  = float(input('Enter first number: '))\n",
    "second_number = float(input('Enter second number: '))\n",
    "third_number  = float(input('Enter third number: '))\n",
    "\n",
    "sum_1 = first_number + second_number + third_number\n",
    "\n",
    "average = sum_1 / 3\n",
    "\n",
    "print('The average of {}, {} and {} is {:1.2f}.'.format(first_number, second_number, third_number, average))"
   ]
  },
  {
   "cell_type": "code",
   "execution_count": null,
   "id": "ed48681c",
   "metadata": {},
   "outputs": [],
   "source": []
  },
  {
   "cell_type": "markdown",
   "id": "cc48ac77",
   "metadata": {},
   "source": [
    "# Q4"
   ]
  },
  {
   "cell_type": "code",
   "execution_count": 42,
   "id": "890d3466",
   "metadata": {},
   "outputs": [
    {
     "name": "stdout",
     "output_type": "stream",
     "text": [
      "One month (30 days) is equals to 720.0 hours or 43200.0 minutes or 2592000.0 seconds.\n"
     ]
    }
   ],
   "source": [
    "day = 30.             # number of days in one month\n",
    "hour = day * 24.      # Hourse in one month\n",
    "minute = hour * 60.   # minute in one month\n",
    "second = minute * 60  # Second in one month\n",
    "\n",
    "print(\"One month (30 days) is equals to {} hours or {} minutes or {} seconds.\".format(hour, minute, second))"
   ]
  },
  {
   "cell_type": "code",
   "execution_count": null,
   "id": "b1d344ca",
   "metadata": {},
   "outputs": [],
   "source": []
  },
  {
   "cell_type": "markdown",
   "id": "79ee16eb",
   "metadata": {},
   "source": [
    "# Q5"
   ]
  },
  {
   "cell_type": "code",
   "execution_count": 45,
   "id": "a4d6d368",
   "metadata": {},
   "outputs": [
    {
     "name": "stdout",
     "output_type": "stream",
     "text": [
      "Enter hours: 2467\n",
      "2467 is equals to 14 weeks and 4 days and 19 hours.\n"
     ]
    }
   ],
   "source": [
    "h = int(input(\"Enter hours: \"))             # input\n",
    "\n",
    "hr = h %  24               # Hours.   باقی مانده\n",
    "d  = h // 24               # Total pure days.   خارج قسمت\n",
    "\n",
    "dr = d %  7                # Days. باقی مانده\n",
    "w  = d // 7                # Weeks  خارج قسمت\n",
    "\n",
    "print(\"{} is equals to {} weeks and {} days and {} hours.\".format(h, w, dr, hr))"
   ]
  },
  {
   "cell_type": "code",
   "execution_count": null,
   "id": "80548c7c",
   "metadata": {},
   "outputs": [],
   "source": []
  },
  {
   "cell_type": "code",
   "execution_count": null,
   "id": "5b50fb6e",
   "metadata": {},
   "outputs": [],
   "source": []
  }
 ],
 "metadata": {
  "kernelspec": {
   "display_name": "Python 3",
   "language": "python",
   "name": "python3"
  },
  "language_info": {
   "codemirror_mode": {
    "name": "ipython",
    "version": 3
   },
   "file_extension": ".py",
   "mimetype": "text/x-python",
   "name": "python",
   "nbconvert_exporter": "python",
   "pygments_lexer": "ipython3",
   "version": "3.8.8"
  }
 },
 "nbformat": 4,
 "nbformat_minor": 5
}
